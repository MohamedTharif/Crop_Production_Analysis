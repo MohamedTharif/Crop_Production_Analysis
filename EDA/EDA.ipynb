{
 "cells": [
  {
   "cell_type": "code",
   "execution_count": 2,
   "id": "d0718c55-8bd5-4bfa-84a7-3ace8734eaac",
   "metadata": {},
   "outputs": [],
   "source": [
    "import pandas as pd"
   ]
  },
  {
   "cell_type": "code",
   "execution_count": 3,
   "id": "674fcd2b-8450-4ba0-b1a0-9a4ceb031793",
   "metadata": {},
   "outputs": [],
   "source": [
    "df=pd.read_csv(\"crop_production_old.csv\")"
   ]
  },
  {
   "cell_type": "markdown",
   "id": "b07ab6a6-f875-4b99-8f27-a12946ba90af",
   "metadata": {
    "jp-MarkdownHeadingCollapsed": true
   },
   "source": [
    "## Description of the Dataset"
   ]
  },
  {
   "cell_type": "code",
   "execution_count": 4,
   "id": "05490c5a-faae-453f-868c-5dcc559072d0",
   "metadata": {},
   "outputs": [
    {
     "name": "stdout",
     "output_type": "stream",
     "text": [
      "<class 'pandas.core.frame.DataFrame'>\n",
      "RangeIndex: 246091 entries, 0 to 246090\n",
      "Data columns (total 7 columns):\n",
      " #   Column         Non-Null Count   Dtype  \n",
      "---  ------         --------------   -----  \n",
      " 0   State_Name     246091 non-null  object \n",
      " 1   District_Name  246091 non-null  object \n",
      " 2   Crop_Year      246091 non-null  int64  \n",
      " 3   Season         246091 non-null  object \n",
      " 4   Crop           246091 non-null  object \n",
      " 5   Area           246091 non-null  float64\n",
      " 6   Production     242361 non-null  float64\n",
      "dtypes: float64(2), int64(1), object(4)\n",
      "memory usage: 13.1+ MB\n",
      "None\n"
     ]
    }
   ],
   "source": [
    "print(df.info())"
   ]
  },
  {
   "cell_type": "code",
   "execution_count": 5,
   "id": "3d5811fb-9fdd-49dd-9ae2-a9f8a7193f96",
   "metadata": {},
   "outputs": [
    {
     "data": {
      "text/html": [
       "<div>\n",
       "<style scoped>\n",
       "    .dataframe tbody tr th:only-of-type {\n",
       "        vertical-align: middle;\n",
       "    }\n",
       "\n",
       "    .dataframe tbody tr th {\n",
       "        vertical-align: top;\n",
       "    }\n",
       "\n",
       "    .dataframe thead th {\n",
       "        text-align: right;\n",
       "    }\n",
       "</style>\n",
       "<table border=\"1\" class=\"dataframe\">\n",
       "  <thead>\n",
       "    <tr style=\"text-align: right;\">\n",
       "      <th></th>\n",
       "      <th>Crop_Year</th>\n",
       "      <th>Area</th>\n",
       "      <th>Production</th>\n",
       "    </tr>\n",
       "  </thead>\n",
       "  <tbody>\n",
       "    <tr>\n",
       "      <th>count</th>\n",
       "      <td>246091.000000</td>\n",
       "      <td>2.460910e+05</td>\n",
       "      <td>2.423610e+05</td>\n",
       "    </tr>\n",
       "    <tr>\n",
       "      <th>mean</th>\n",
       "      <td>2005.643018</td>\n",
       "      <td>1.200282e+04</td>\n",
       "      <td>5.825034e+05</td>\n",
       "    </tr>\n",
       "    <tr>\n",
       "      <th>std</th>\n",
       "      <td>4.952164</td>\n",
       "      <td>5.052340e+04</td>\n",
       "      <td>1.706581e+07</td>\n",
       "    </tr>\n",
       "    <tr>\n",
       "      <th>min</th>\n",
       "      <td>1997.000000</td>\n",
       "      <td>4.000000e-02</td>\n",
       "      <td>0.000000e+00</td>\n",
       "    </tr>\n",
       "    <tr>\n",
       "      <th>25%</th>\n",
       "      <td>2002.000000</td>\n",
       "      <td>8.000000e+01</td>\n",
       "      <td>8.800000e+01</td>\n",
       "    </tr>\n",
       "    <tr>\n",
       "      <th>50%</th>\n",
       "      <td>2006.000000</td>\n",
       "      <td>5.820000e+02</td>\n",
       "      <td>7.290000e+02</td>\n",
       "    </tr>\n",
       "    <tr>\n",
       "      <th>75%</th>\n",
       "      <td>2010.000000</td>\n",
       "      <td>4.392000e+03</td>\n",
       "      <td>7.023000e+03</td>\n",
       "    </tr>\n",
       "    <tr>\n",
       "      <th>max</th>\n",
       "      <td>2015.000000</td>\n",
       "      <td>8.580100e+06</td>\n",
       "      <td>1.250800e+09</td>\n",
       "    </tr>\n",
       "  </tbody>\n",
       "</table>\n",
       "</div>"
      ],
      "text/plain": [
       "           Crop_Year          Area    Production\n",
       "count  246091.000000  2.460910e+05  2.423610e+05\n",
       "mean     2005.643018  1.200282e+04  5.825034e+05\n",
       "std         4.952164  5.052340e+04  1.706581e+07\n",
       "min      1997.000000  4.000000e-02  0.000000e+00\n",
       "25%      2002.000000  8.000000e+01  8.800000e+01\n",
       "50%      2006.000000  5.820000e+02  7.290000e+02\n",
       "75%      2010.000000  4.392000e+03  7.023000e+03\n",
       "max      2015.000000  8.580100e+06  1.250800e+09"
      ]
     },
     "execution_count": 5,
     "metadata": {},
     "output_type": "execute_result"
    }
   ],
   "source": [
    "df.describe()"
   ]
  },
  {
   "cell_type": "code",
   "execution_count": 6,
   "id": "82f4c513-4201-4484-8eda-01088bbb5320",
   "metadata": {},
   "outputs": [
    {
     "name": "stdout",
     "output_type": "stream",
     "text": [
      "State_Name          0\n",
      "District_Name       0\n",
      "Crop_Year           0\n",
      "Season              0\n",
      "Crop                0\n",
      "Area                0\n",
      "Production       3730\n",
      "dtype: int64\n"
     ]
    }
   ],
   "source": [
    "#checking the null null values count\n",
    "print(df.isnull().sum())\n"
   ]
  },
  {
   "cell_type": "code",
   "execution_count": 7,
   "id": "a09ec979-72c6-4c94-bc0e-cc98855376e4",
   "metadata": {},
   "outputs": [
    {
     "name": "stdout",
     "output_type": "stream",
     "text": [
      "State_Name       0\n",
      "District_Name    0\n",
      "Crop_Year        0\n",
      "Season           0\n",
      "Crop             0\n",
      "Area             0\n",
      "Production       0\n",
      "dtype: int64\n"
     ]
    }
   ],
   "source": [
    "\n",
    "#filling empty values with 0\n",
    "df=df.fillna(0)\n",
    "\n",
    "#after replacing the empty value with 0 \n",
    "print(df.isnull().sum())"
   ]
  },
  {
   "cell_type": "code",
   "execution_count": 8,
   "id": "253f6a91-42c4-402a-a119-d36c11037d5f",
   "metadata": {},
   "outputs": [
    {
     "data": {
      "text/plain": [
       "Index(['State_Name', 'District_Name', 'Crop_Year', 'Season', 'Crop', 'Area',\n",
       "       'Production'],\n",
       "      dtype='object')"
      ]
     },
     "execution_count": 8,
     "metadata": {},
     "output_type": "execute_result"
    }
   ],
   "source": [
    "df.columns"
   ]
  },
  {
   "cell_type": "code",
   "execution_count": 9,
   "id": "2ebd0b44-9404-4e40-809d-5ddb581bbdac",
   "metadata": {},
   "outputs": [
    {
     "data": {
      "text/html": [
       "<div>\n",
       "<style scoped>\n",
       "    .dataframe tbody tr th:only-of-type {\n",
       "        vertical-align: middle;\n",
       "    }\n",
       "\n",
       "    .dataframe tbody tr th {\n",
       "        vertical-align: top;\n",
       "    }\n",
       "\n",
       "    .dataframe thead th {\n",
       "        text-align: right;\n",
       "    }\n",
       "</style>\n",
       "<table border=\"1\" class=\"dataframe\">\n",
       "  <thead>\n",
       "    <tr style=\"text-align: right;\">\n",
       "      <th></th>\n",
       "      <th>State_Name</th>\n",
       "      <th>District_Name</th>\n",
       "      <th>Crop_Year</th>\n",
       "      <th>Season</th>\n",
       "      <th>Crop</th>\n",
       "      <th>Area</th>\n",
       "      <th>Production</th>\n",
       "    </tr>\n",
       "  </thead>\n",
       "  <tbody>\n",
       "    <tr>\n",
       "      <th>0</th>\n",
       "      <td>Andaman and Nicobar Islands</td>\n",
       "      <td>NICOBARS</td>\n",
       "      <td>2000</td>\n",
       "      <td>Kharif</td>\n",
       "      <td>Arecanut</td>\n",
       "      <td>1254.0</td>\n",
       "      <td>2000.0</td>\n",
       "    </tr>\n",
       "    <tr>\n",
       "      <th>1</th>\n",
       "      <td>Andaman and Nicobar Islands</td>\n",
       "      <td>NICOBARS</td>\n",
       "      <td>2000</td>\n",
       "      <td>Kharif</td>\n",
       "      <td>Other Kharif pulses</td>\n",
       "      <td>2.0</td>\n",
       "      <td>1.0</td>\n",
       "    </tr>\n",
       "    <tr>\n",
       "      <th>2</th>\n",
       "      <td>Andaman and Nicobar Islands</td>\n",
       "      <td>NICOBARS</td>\n",
       "      <td>2000</td>\n",
       "      <td>Kharif</td>\n",
       "      <td>Rice</td>\n",
       "      <td>102.0</td>\n",
       "      <td>321.0</td>\n",
       "    </tr>\n",
       "    <tr>\n",
       "      <th>3</th>\n",
       "      <td>Andaman and Nicobar Islands</td>\n",
       "      <td>NICOBARS</td>\n",
       "      <td>2000</td>\n",
       "      <td>Whole Year</td>\n",
       "      <td>Banana</td>\n",
       "      <td>176.0</td>\n",
       "      <td>641.0</td>\n",
       "    </tr>\n",
       "    <tr>\n",
       "      <th>4</th>\n",
       "      <td>Andaman and Nicobar Islands</td>\n",
       "      <td>NICOBARS</td>\n",
       "      <td>2000</td>\n",
       "      <td>Whole Year</td>\n",
       "      <td>Cashewnut</td>\n",
       "      <td>720.0</td>\n",
       "      <td>165.0</td>\n",
       "    </tr>\n",
       "  </tbody>\n",
       "</table>\n",
       "</div>"
      ],
      "text/plain": [
       "                    State_Name District_Name  Crop_Year       Season  \\\n",
       "0  Andaman and Nicobar Islands      NICOBARS       2000  Kharif        \n",
       "1  Andaman and Nicobar Islands      NICOBARS       2000  Kharif        \n",
       "2  Andaman and Nicobar Islands      NICOBARS       2000  Kharif        \n",
       "3  Andaman and Nicobar Islands      NICOBARS       2000  Whole Year    \n",
       "4  Andaman and Nicobar Islands      NICOBARS       2000  Whole Year    \n",
       "\n",
       "                  Crop    Area  Production  \n",
       "0             Arecanut  1254.0      2000.0  \n",
       "1  Other Kharif pulses     2.0         1.0  \n",
       "2                 Rice   102.0       321.0  \n",
       "3               Banana   176.0       641.0  \n",
       "4            Cashewnut   720.0       165.0  "
      ]
     },
     "execution_count": 9,
     "metadata": {},
     "output_type": "execute_result"
    }
   ],
   "source": [
    "df.head(5)"
   ]
  },
  {
   "cell_type": "markdown",
   "id": "68b620b3-76a0-40ef-a3fd-9e599c3ab469",
   "metadata": {
    "jp-MarkdownHeadingCollapsed": true
   },
   "source": [
    "## Issues in CROP COLUMN that needs to be addressed and solved"
   ]
  },
  {
   "cell_type": "code",
   "execution_count": 10,
   "id": "386d7029-6209-4e40-9260-6c98a8008dce",
   "metadata": {},
   "outputs": [
    {
     "name": "stdout",
     "output_type": "stream",
     "text": [
      "['Arecanut' 'Other Kharif pulses' 'Paddy' 'Banana' 'Cashewnut' 'Coconut '\n",
      " 'Dry ginger' 'Sugarcane' 'Sweet potato' 'Tapioca' 'Black pepper'\n",
      " 'Dry chillies' 'other oilseeds' 'Turmeric' 'Maize' 'Moong(Green Gram)'\n",
      " 'Blackgram' 'Arhar/Tur' 'Groundnut' 'Sunflower' 'Bajra' 'Castor seed'\n",
      " 'Cotton(lint)' 'Horse-gram' 'Jowar' 'Korra' 'Ragi' 'Tobacco' 'Gram'\n",
      " 'Wheat' 'Lentil' 'Seasum' 'Linseed' 'Safflower' 'Onion'\n",
      " 'other misc. pulses' 'Samai' 'Small millets' 'Coriander' 'Potato'\n",
      " 'Other  Rabi pulses' 'Soybean' 'Beans & Mutter(Vegetable)' 'Bhindi'\n",
      " 'Brinjal' 'Citrus Fruit' 'Cucumber' 'Grapes' 'Mango' 'Orange'\n",
      " 'other fibres' 'Other Fresh Fruits' 'Other Vegetables' 'Papaya'\n",
      " 'Pome Fruit' 'Tomato' 'Rapeseed &Mustard' 'Jute & mesta' 'Cowpea(Lobia)'\n",
      " 'Lemon' 'Pomegranate' 'Sapota' 'Cabbage' 'Peas  (vegetable)' 'Niger seed'\n",
      " 'Bottle Gourd' 'Sunhemp' 'Varagu' 'Garlic' 'Ginger' 'Oilseeds total'\n",
      " 'Pulses total' 'Peas & beans (Pulses)' 'Pineapple' 'Barley' 'Khesari'\n",
      " 'Guar seed' 'Moth' 'Other Cereals & Millets' 'Cond-spcs other' 'Turnip'\n",
      " 'Carrot' 'Raddish' 'Arcanut (Processed)' 'Atcanut (Raw)'\n",
      " 'Cashewnut Processed' 'Cashewnut Raw' 'Cardamom' 'Rubber' 'Bitter Gourd'\n",
      " 'Drum Stick' 'Jack Fruit' 'Snake Gourd' 'Pumpkin' 'Tea' 'Coffee'\n",
      " 'Cauliflower' 'Other Citrus Fruit' 'Water Melon' 'Total foodgrain'\n",
      " 'Colocosia' 'Bean' 'Jobster' 'Perilla' 'Rajmash Kholar'\n",
      " 'Ricebean (nagadal)' 'Ash Gourd' 'Beet Root' 'Lab-Lab' 'Ribed Guard'\n",
      " 'Yam' 'Apple' 'Peach' 'Pear' 'Plums' 'Litchi' 'Ber' 'Other Dry Fruit']\n"
     ]
    }
   ],
   "source": [
    "df['Crop'].unique()\n",
    "\n",
    "#values were uniques but has spelling mistakes\n",
    "#hence needs to change\n",
    "df[\"Crop\"] = df[\"Crop\"].apply( lambda x : \"Seasum\" if x == \"Sesamum\" else  x )\n",
    "df[\"Crop\"] = df[\"Crop\"].apply( lambda x : \"Pomegranate\" if x == \"Pome Granet\" else  x )\n",
    "df[\"Crop\"] = df[\"Crop\"].apply( lambda x : \"Sunhemp\" if x == \"Sannhamp\" else  x )\n",
    "df[\"Crop\"] = df[\"Crop\"].apply( lambda x : \"Raddish\" if x == \"Redish\" else  x )\n",
    "df[\"Crop\"] = df[\"Crop\"].apply( lambda x : \"Soybean\" if x == \"Soyabean\" else  x )\n",
    "df[\"Crop\"] = df[\"Crop\"].apply( lambda x : \"Snake Gourd\" if x == \"Snak Guard\" else  x )\n",
    "df[\"Crop\"] = df[\"Crop\"].apply( lambda x : \"Pumpkin\" if x == \"Pump Kin\" else  x )\n",
    "df[\"Crop\"] = df[\"Crop\"].apply( lambda x : \"Paddy\" if x == \"Rice\" else  x )\n",
    "df[\"Crop\"] = df[\"Crop\"].apply( lambda x : \"Blackgram\" if x == \"Urad\" else  x )\n",
    "df[\"Crop\"] = df[\"Crop\"].apply( lambda x : \"Lentil\" if x == \"Masoor\" else  x )\n",
    "df[\"Crop\"] = df[\"Crop\"].apply( lambda x : \"Jute & mesta\" if x == \"Jute\" else  x )\n",
    "df[\"Crop\"] = df[\"Crop\"].apply( lambda x : \"Jute & mesta\" if x == \"Mesta\" else  x )\n",
    "df[\"Crop\"] = df[\"Crop\"].apply( lambda x : \"Cotton(lint)\" if x == \"Kapas\" else  x )\n",
    "\n",
    "print(df[\"Crop\"].unique())"
   ]
  },
  {
   "cell_type": "markdown",
   "id": "32108f8d-424b-4a58-910d-8dcee070f3d5",
   "metadata": {
    "jp-MarkdownHeadingCollapsed": true
   },
   "source": [
    "## Categorizing the crops in particular category"
   ]
  },
  {
   "cell_type": "code",
   "execution_count": 11,
   "id": "6be8efb8-976d-4a04-8701-fb2ab895357c",
   "metadata": {},
   "outputs": [
    {
     "name": "stdout",
     "output_type": "stream",
     "text": [
      "['Condiment' 'Pulses' 'Cereal' 'Fruit' 'Dryfruit' 'None' 'Plantation'\n",
      " 'Vegetable' 'Oilseed']\n"
     ]
    }
   ],
   "source": [
    "#categorize the crops into specific category\n",
    "def make_category(name):\n",
    "    Cereals = ['Wheat','Maize','Bajra','Paddy', 'Jowar', 'Korra','Ragi','Small millets','Samai', 'Varagu','Barley','Khesari','Other Cereals & Millets','Total foodgrain','Jobster']\n",
    "    Pulses = ['Pulses total','Other  Rabi pulses','Other Kharif pulses','Moong(Green Gram)','Blackgram','Lentil','Arhar/Tur','Horse-gram','Gram','other misc. pulses','Other rabi pulses','Other fibres','Cowpea(Lobia)','Peas & beans (Pulses)','Moth','Bean','Rajmash Kholar','Ricebean (nagadal)']\n",
    "    Vegetables = ['Beans & Mutter(Vegetable)','Lemon','Sweet potato','Tapioca','Onion','Potato','Bhindi','Brinjal','Cucumber','Other Vegetables','Tomato','Cabbage','Peas  (vegetable)','Bottle Gourd','Turnip','Carrot','Raddish','Bitter Gourd','Drum Stick','Jack Fruit','Snake Gourd','Pumpkin','Cauliflower','Colocosia','Ash Gourd','Beet Root','Lab-Lab','Ribed Guard','Yam','Perilla']\n",
    "    Fruits = ['Sapota','Banana','Citrus Fruit','Grapes','Mango','Orange','Other Fresh Fruits','Papaya','Pome Fruit','Pomegranate','Pineapple','Other Citrus Fruit','Water Melon','Apple','Peach','Pear','Plums','Litchi','Ber']\n",
    "    Oilseeds = ['other oilseeds','Groundnut','Sunflower','Castor seed','Safflower','Linseed','Seasum','Rapeseed &Mustard','Niger seed','Oilseeds total','Sunhemp','Soybean']\n",
    "    Condiments = ['Dry ginger','Black pepper','Dry chillies','Turmeric','Coriander','Garlic','Ginger','Cond-spcs other','Cardamom','Arcanut (Processed)','Atcanut (Raw)','Arecanut']\n",
    "    Dryfruits = ['Cashewnut','Cashewnut Processed','Cashewnut Raw','Other Dry Fruit']\n",
    "    Plantation = ['Coconut','Sugarcane','Cotton(lint)','Tobacco','Jute & mesta','Guar seed','Rubber','Tea','Coffee','other fibres']\n",
    "    if name in Cereals:\n",
    "        return 'Cereal'\n",
    "    elif name in Pulses:\n",
    "        return 'Pulses'\n",
    "    elif name in Vegetables:\n",
    "        return 'Vegetable'\n",
    "    elif name in Fruits:\n",
    "        return 'Fruit'\n",
    "    elif name in Oilseeds:\n",
    "        return 'Oilseed'\n",
    "    elif name in Condiments:\n",
    "        return 'Condiment'\n",
    "    elif name in Dryfruits:\n",
    "        return 'Dryfruit'\n",
    "    elif name in Plantation:\n",
    "        return 'Plantation'\n",
    "    else:\n",
    "        return 'None'\n",
    "    \n",
    "df[\"Category\"] = df[\"Crop\"].apply(make_category)\n",
    "print(df[\"Category\"].unique())"
   ]
  },
  {
   "cell_type": "markdown",
   "id": "b5f914d8-af07-477c-af96-ce170df18319",
   "metadata": {},
   "source": [
    "## Specifying Regions by Grouping the States based on the Geographical locations"
   ]
  },
  {
   "cell_type": "code",
   "execution_count": 12,
   "id": "56ab099d-bc3e-4963-b110-1baad8299d33",
   "metadata": {},
   "outputs": [
    {
     "name": "stdout",
     "output_type": "stream",
     "text": [
      "['South India' 'East India' 'North India' 'West India']\n"
     ]
    }
   ],
   "source": [
    "#making regions by combining the states\n",
    "#regions = east_india'#west india #north india #south india\n",
    "def make_region(name):\n",
    "    east_india = ['West Bengal', 'Tripura', 'Arunachal Pradesh', 'Assam', 'Manipur', 'Meghalaya', 'Mizoram', 'Nagaland', 'Sikkim','Odisha']\n",
    "    west_india = ['Maharashtra', 'Gujarat', 'Dadra and Nagar Haveli', 'Goa', 'Rajasthan']\n",
    "    north_india = ['Bihar', 'Chandigarh', 'Chhattisgarh', 'Haryana', 'Himachal Pradesh', 'Jammu and Kashmir ', 'Jharkhand', 'Madhya Pradesh', 'Punjab', 'Uttar Pradesh', 'Uttarakhand']\n",
    "    south_india = ['Tamil Nadu', 'Telangana ', 'Andaman and Nicobar Islands', 'Andhra Pradesh', 'Karnataka', 'Kerala', 'Puducherry']\n",
    "    \n",
    "    if name in east_india:\n",
    "        return 'East India'\n",
    "    elif name in west_india:\n",
    "        return 'West India'\n",
    "    elif name in north_india:\n",
    "        return 'North India'\n",
    "    elif name in south_india:\n",
    "        return 'South India'\n",
    "    else:\n",
    "        return 'None'\n",
    "    \n",
    "df[\"Region\"] = df[\"State_Name\"].apply(make_region)\n",
    "print(df[\"Region\"].unique())"
   ]
  },
  {
   "cell_type": "code",
   "execution_count": 13,
   "id": "768be8c8-745e-4cbe-a4b1-3adc7f448c70",
   "metadata": {},
   "outputs": [],
   "source": [
    "#productivity per area can be calculated\n",
    "df[\"Productivity\"] = df[\"Production\"] / df[\"Area\"]\n",
    "\n",
    "#total production has been already there but \n",
    "df[\"Total Production\"] = df[\"Production\"] * df[\"Area\"]"
   ]
  },
  {
   "cell_type": "code",
   "execution_count": 14,
   "id": "5927dae0-0dcd-4158-9b46-760917ca22ee",
   "metadata": {},
   "outputs": [
    {
     "data": {
      "text/html": [
       "<div>\n",
       "<style scoped>\n",
       "    .dataframe tbody tr th:only-of-type {\n",
       "        vertical-align: middle;\n",
       "    }\n",
       "\n",
       "    .dataframe tbody tr th {\n",
       "        vertical-align: top;\n",
       "    }\n",
       "\n",
       "    .dataframe thead th {\n",
       "        text-align: right;\n",
       "    }\n",
       "</style>\n",
       "<table border=\"1\" class=\"dataframe\">\n",
       "  <thead>\n",
       "    <tr style=\"text-align: right;\">\n",
       "      <th></th>\n",
       "      <th>State_Name</th>\n",
       "      <th>District_Name</th>\n",
       "      <th>Crop_Year</th>\n",
       "      <th>Season</th>\n",
       "      <th>Crop</th>\n",
       "      <th>Area</th>\n",
       "      <th>Production</th>\n",
       "      <th>Category</th>\n",
       "      <th>Region</th>\n",
       "      <th>Productivity</th>\n",
       "      <th>Total Production</th>\n",
       "    </tr>\n",
       "  </thead>\n",
       "  <tbody>\n",
       "    <tr>\n",
       "      <th>0</th>\n",
       "      <td>Andaman and Nicobar Islands</td>\n",
       "      <td>NICOBARS</td>\n",
       "      <td>2000</td>\n",
       "      <td>Kharif</td>\n",
       "      <td>Arecanut</td>\n",
       "      <td>1254.0</td>\n",
       "      <td>2000.0</td>\n",
       "      <td>Condiment</td>\n",
       "      <td>South India</td>\n",
       "      <td>1.594896</td>\n",
       "      <td>2508000.0</td>\n",
       "    </tr>\n",
       "    <tr>\n",
       "      <th>1</th>\n",
       "      <td>Andaman and Nicobar Islands</td>\n",
       "      <td>NICOBARS</td>\n",
       "      <td>2000</td>\n",
       "      <td>Kharif</td>\n",
       "      <td>Other Kharif pulses</td>\n",
       "      <td>2.0</td>\n",
       "      <td>1.0</td>\n",
       "      <td>Pulses</td>\n",
       "      <td>South India</td>\n",
       "      <td>0.500000</td>\n",
       "      <td>2.0</td>\n",
       "    </tr>\n",
       "    <tr>\n",
       "      <th>2</th>\n",
       "      <td>Andaman and Nicobar Islands</td>\n",
       "      <td>NICOBARS</td>\n",
       "      <td>2000</td>\n",
       "      <td>Kharif</td>\n",
       "      <td>Paddy</td>\n",
       "      <td>102.0</td>\n",
       "      <td>321.0</td>\n",
       "      <td>Cereal</td>\n",
       "      <td>South India</td>\n",
       "      <td>3.147059</td>\n",
       "      <td>32742.0</td>\n",
       "    </tr>\n",
       "    <tr>\n",
       "      <th>3</th>\n",
       "      <td>Andaman and Nicobar Islands</td>\n",
       "      <td>NICOBARS</td>\n",
       "      <td>2000</td>\n",
       "      <td>Whole Year</td>\n",
       "      <td>Banana</td>\n",
       "      <td>176.0</td>\n",
       "      <td>641.0</td>\n",
       "      <td>Fruit</td>\n",
       "      <td>South India</td>\n",
       "      <td>3.642045</td>\n",
       "      <td>112816.0</td>\n",
       "    </tr>\n",
       "    <tr>\n",
       "      <th>4</th>\n",
       "      <td>Andaman and Nicobar Islands</td>\n",
       "      <td>NICOBARS</td>\n",
       "      <td>2000</td>\n",
       "      <td>Whole Year</td>\n",
       "      <td>Cashewnut</td>\n",
       "      <td>720.0</td>\n",
       "      <td>165.0</td>\n",
       "      <td>Dryfruit</td>\n",
       "      <td>South India</td>\n",
       "      <td>0.229167</td>\n",
       "      <td>118800.0</td>\n",
       "    </tr>\n",
       "  </tbody>\n",
       "</table>\n",
       "</div>"
      ],
      "text/plain": [
       "                    State_Name District_Name  Crop_Year       Season  \\\n",
       "0  Andaman and Nicobar Islands      NICOBARS       2000  Kharif        \n",
       "1  Andaman and Nicobar Islands      NICOBARS       2000  Kharif        \n",
       "2  Andaman and Nicobar Islands      NICOBARS       2000  Kharif        \n",
       "3  Andaman and Nicobar Islands      NICOBARS       2000  Whole Year    \n",
       "4  Andaman and Nicobar Islands      NICOBARS       2000  Whole Year    \n",
       "\n",
       "                  Crop    Area  Production   Category       Region  \\\n",
       "0             Arecanut  1254.0      2000.0  Condiment  South India   \n",
       "1  Other Kharif pulses     2.0         1.0     Pulses  South India   \n",
       "2                Paddy   102.0       321.0     Cereal  South India   \n",
       "3               Banana   176.0       641.0      Fruit  South India   \n",
       "4            Cashewnut   720.0       165.0   Dryfruit  South India   \n",
       "\n",
       "   Productivity  Total Production  \n",
       "0      1.594896         2508000.0  \n",
       "1      0.500000               2.0  \n",
       "2      3.147059           32742.0  \n",
       "3      3.642045          112816.0  \n",
       "4      0.229167          118800.0  "
      ]
     },
     "execution_count": 14,
     "metadata": {},
     "output_type": "execute_result"
    }
   ],
   "source": [
    "#after made changes in the data,the data will be in this format\n",
    "df.head(5)"
   ]
  },
  {
   "cell_type": "markdown",
   "id": "5e5befcc-a86a-4a22-b42b-9f45ff008aa3",
   "metadata": {
    "jp-MarkdownHeadingCollapsed": true
   },
   "source": [
    "## Saving the file "
   ]
  },
  {
   "cell_type": "code",
   "execution_count": 15,
   "id": "e21e1839-12c6-4333-90b2-0bcb0b0c14f0",
   "metadata": {},
   "outputs": [],
   "source": [
    "# saving the dataframe\n",
    "df.to_csv('D:/Projects/Crop_production_Analysis/Dataset/crop_production.csv')"
   ]
  },
  {
   "cell_type": "code",
   "execution_count": null,
   "id": "b83f3cea-9f9d-4c74-b886-0e7582bde549",
   "metadata": {},
   "outputs": [],
   "source": []
  }
 ],
 "metadata": {
  "kernelspec": {
   "display_name": "Python 3 (ipykernel)",
   "language": "python",
   "name": "python3"
  },
  "language_info": {
   "codemirror_mode": {
    "name": "ipython",
    "version": 3
   },
   "file_extension": ".py",
   "mimetype": "text/x-python",
   "name": "python",
   "nbconvert_exporter": "python",
   "pygments_lexer": "ipython3",
   "version": "3.11.7"
  }
 },
 "nbformat": 4,
 "nbformat_minor": 5
}
